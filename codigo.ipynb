{
 "cells": [
  {
   "cell_type": "code",
   "execution_count": 1,
   "metadata": {},
   "outputs": [
    {
     "name": "stdout",
     "output_type": "stream",
     "text": [
      "Estamos no elemento 1\n",
      "Estamos no elemento 2\n",
      "Estamos no elemento 3\n",
      "Estamos no elemento 4\n",
      "Estamos no elemento 5\n",
      "Estamos no elemento 6\n"
     ]
    }
   ],
   "source": [
    "for elemento in [1, 2, 3, 4, 5, 6]:\n",
    "    print('Estamos no elemento', elemento)"
   ]
  },
  {
   "cell_type": "code",
   "execution_count": 3,
   "metadata": {},
   "outputs": [
    {
     "name": "stdout",
     "output_type": "stream",
     "text": [
      "Estamos no elemento S\n",
      "Estamos no elemento T\n",
      "Estamos no elemento R\n",
      "Estamos no elemento I\n",
      "Estamos no elemento N\n",
      "Estamos no elemento G\n"
     ]
    }
   ],
   "source": [
    "for elemento in 'STRING':\n",
    "    print('Estamos no elemento', elemento)"
   ]
  },
  {
   "cell_type": "code",
   "execution_count": 4,
   "metadata": {},
   "outputs": [
    {
     "name": "stdout",
     "output_type": "stream",
     "text": [
      "estamos no elemento 0\n",
      "estamos no elemento 1\n",
      "estamos no elemento 2\n",
      "estamos no elemento 3\n",
      "estamos no elemento 4\n",
      "estamos no elemento 5\n"
     ]
    }
   ],
   "source": [
    "for elemento in range(len (\"STRING\")):\n",
    "    print ('estamos no elemento', elemento)\n"
   ]
  },
  {
   "cell_type": "code",
   "execution_count": 7,
   "metadata": {},
   "outputs": [
    {
     "name": "stdout",
     "output_type": "stream",
     "text": [
      "Estamos no elemento 0\n",
      "Estamos no elemento 1\n",
      "Estamos no elemento 2\n",
      "Estamos no elemento 3\n",
      "Estamos no elemento 4\n",
      "Estamos no elemento 5\n",
      "Estamos no elemento 6\n"
     ]
    }
   ],
   "source": [
    "elemento = 0\n",
    "while elemento <= len ([1, 2, 3, 4, 5, 6]):\n",
    "    print('Estamos no elemento', elemento)\n",
    "    elemento +=1"
   ]
  },
  {
   "cell_type": "code",
   "execution_count": 8,
   "metadata": {},
   "outputs": [
    {
     "name": "stdout",
     "output_type": "stream",
     "text": [
      "Estamos no elemento S\n",
      "Estamos no elemento T\n",
      "Estamos no elemento R\n",
      "Estamos no elemento I\n",
      "Estamos no elemento N\n",
      "Estamos no elemento G\n"
     ]
    }
   ],
   "source": [
    "s= 'STRING'\n",
    "indice= 0\n",
    "while indice in range (len (s)):\n",
    "    print('Estamos no elemento', s[indice])\n",
    "    indice +=1"
   ]
  },
  {
   "cell_type": "code",
   "execution_count": 10,
   "metadata": {},
   "outputs": [
    {
     "name": "stdout",
     "output_type": "stream",
     "text": [
      "0 t\n",
      "1 r\n",
      "2 a\n",
      "3 n\n",
      "4 q\n",
      "5 u\n",
      "6 i\n",
      "7 l\n",
      "8 o\n"
     ]
    }
   ],
   "source": [
    "palavra= 'tranquilo'\n",
    "for indice, x in enumerate (palavra):\n",
    "    print(indice, x)"
   ]
  },
  {
   "cell_type": "code",
   "execution_count": 15,
   "metadata": {},
   "outputs": [
    {
     "name": "stdout",
     "output_type": "stream",
     "text": [
      "Tipo:  <class 'enumerate'>\n",
      "[(0, 'eat'), (1, 'sleep'), (2, 'repeat')]\n",
      "[(2, 'g'), (3, 'e'), (4, 'e'), (5, 'k')]\n"
     ]
    }
   ],
   "source": [
    "lista= ['eat', 'sleep', 'repeat']\n",
    "palavra= 'geek'\n",
    "objeto1= enumerate (lista)\n",
    "objeto2= enumerate (palavra)\n",
    "\n",
    "print(\"Tipo: \", type(objeto1))\n",
    "print(list(enumerate(lista)))\n",
    "print(list(enumerate(palavra, 2)))"
   ]
  },
  {
   "cell_type": "code",
   "execution_count": 16,
   "metadata": {},
   "outputs": [
    {
     "name": "stdout",
     "output_type": "stream",
     "text": [
      "Estamos no elemento v\n",
      "Estamos no elemento i\n",
      "Estamos no elemento v\n",
      "Estamos no elemento a\n",
      "Estamos no elemento  \n",
      "Estamos no elemento o\n",
      "Estamos no elemento  \n",
      "Estamos no elemento P\n",
      "Estamos no elemento y\n",
      "Estamos no elemento t\n",
      "Estamos no elemento h\n",
      "Estamos no elemento o\n",
      "Estamos no elemento n\n"
     ]
    }
   ],
   "source": [
    "s= \"viva o Python\"\n",
    "for ch in s:\n",
    "    print(\"Estamos no elemento\", ch)"
   ]
  },
  {
   "cell_type": "code",
   "execution_count": 19,
   "metadata": {},
   "outputs": [
    {
     "name": "stdout",
     "output_type": "stream",
     "text": [
      "Estamos no elemento a\n",
      "Estamos no elemento  \n",
      "Estamos no elemento o\n",
      "Estamos no elemento  \n",
      "Estamos no elemento p\n"
     ]
    }
   ],
   "source": [
    "s= \"viva o python\"\n",
    "for ch in s[3:8]:\n",
    "    print(\"Estamos no elemento\", ch)"
   ]
  },
  {
   "cell_type": "code",
   "execution_count": 20,
   "metadata": {},
   "outputs": [
    {
     "name": "stdout",
     "output_type": "stream",
     "text": [
      "Quantidade de números pares: 3\n",
      "Quantidade de números ímpares: 7\n"
     ]
    }
   ],
   "source": [
    "# faça um programa que peça 10 números inteiros, calcule e mostre a quantidade de números pares e a quantidade de números ímpares\n",
    "\n",
    "pares = 0\n",
    "impares = 0\n",
    "\n",
    "# pedir 10 números inteiros ao usuário\n",
    "for indice in range(10):\n",
    "    numero = int(input(\"Digite um número inteiro: \"))\n",
    "    \n",
    "    # verificar se o número é par ou ímpar e atualizar os contadores\n",
    "    if numero % 2 == 0:\n",
    "        pares += 1\n",
    "    else:\n",
    "        impares += 1\n",
    "\n",
    "# mostrar a quantidade de números pares e ímpares\n",
    "print(\"Quantidade de números pares:\", pares)\n",
    "print(\"Quantidade de números ímpares:\", impares)"
   ]
  }
 ],
 "metadata": {
  "kernelspec": {
   "display_name": "Python 3",
   "language": "python",
   "name": "python3"
  },
  "language_info": {
   "codemirror_mode": {
    "name": "ipython",
    "version": 3
   },
   "file_extension": ".py",
   "mimetype": "text/x-python",
   "name": "python",
   "nbconvert_exporter": "python",
   "pygments_lexer": "ipython3",
   "version": "3.11.9"
  }
 },
 "nbformat": 4,
 "nbformat_minor": 2
}
